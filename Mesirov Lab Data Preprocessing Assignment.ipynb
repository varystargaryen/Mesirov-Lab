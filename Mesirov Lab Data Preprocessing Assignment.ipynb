{
 "cells": [
  {
   "cell_type": "code",
   "execution_count": null,
   "id": "588d4797",
   "metadata": {},
   "outputs": [],
   "source": [
    "import pandas as pd;\n",
    "import os;\n",
    "import sys;\n",
    "!{sys.executable} -m pip install cmapPy;\n",
    "import cmapPy;\n",
    "from cmapPy.pandasGEXpress.parse import parse;\n",
    "import matplotlib.pyplot as plt"
   ]
  },
  {
   "cell_type": "code",
   "execution_count": null,
   "id": "11775862",
   "metadata": {},
   "outputs": [],
   "source": [
    "#1\n",
    "def process_gct(gct_file, summary=False):\n",
    "    if summary:\n",
    "        gct_dataframe = cmapPy.pandasGEXpress.parse.parse(gct_file)\n",
    "        print(str(gct_dataframe.data_df.shape[0]) + ' rows and ' + str(gct_dataframe.data_df.shape[1]) + ' columns were imported.')\n",
    "        return gct_dataframe\n",
    "    else:\n",
    "        gct_dataframe = cmapPy.pandasGEXpress.parse.parse(gct_file)\n",
    "        return gct_dataframe"
   ]
  },
  {
   "cell_type": "code",
   "execution_count": null,
   "id": "500a433d",
   "metadata": {},
   "outputs": [],
   "source": [
    "#2A\n",
    "gct_df = process_gct('BRCA_minimal_60x19.gct', True)\n",
    "gct_df"
   ]
  },
  {
   "cell_type": "code",
   "execution_count": null,
   "id": "f9445038",
   "metadata": {},
   "outputs": [],
   "source": [
    "#2B\n",
    "gct_df = process_gct('BRCA_large_20783x40.gct')\n",
    "gct_df"
   ]
  },
  {
   "cell_type": "code",
   "execution_count": null,
   "id": "9cfbe25b",
   "metadata": {},
   "outputs": [],
   "source": [
    "#3\n",
    "hist1 = gct_df.data_df.hist(column='A7-A0DB-normal',bins=40)\n",
    "hist2 = gct_df.data_df.hist(column='A7-A13E-normal', bins=40)\n",
    "hist3 = gct_df.data_df.hist(column='BH-A0B3-primary', bins=40)\n",
    "hist4 = gct_df.data_df.hist(column='BH-A0B5-primary', bins=40)"
   ]
  },
  {
   "cell_type": "code",
   "execution_count": null,
   "id": "9511e6ef",
   "metadata": {},
   "outputs": [],
   "source": [
    "#4\n",
    "gct_df_new = gct_df.data_df.copy()\n",
    "gct_df_new['Mean'] = gct_df_new.mean(numeric_only=True, axis=1)\n",
    "gct_df_new['Median'] = gct_df_new.median(numeric_only=True, axis=1)\n",
    "gct_df_new['Standard Deviation'] = gct_df_new.std(numeric_only=True, axis=1)\n",
    "gct_df_new"
   ]
  },
  {
   "cell_type": "code",
   "execution_count": null,
   "id": "f3b68a55",
   "metadata": {},
   "outputs": [],
   "source": [
    "#5A\n",
    "rows_to_keep = int(0.9*len(gct_df_new))\n",
    "gct_df_new_filtered = gct_df_new.nsmallest(rows_to_keep, 'Standard Deviation')\n",
    "gct_df_new_filtered"
   ]
  },
  {
   "cell_type": "code",
   "execution_count": null,
   "id": "fcdae813",
   "metadata": {},
   "outputs": [],
   "source": [
    "#5B\n",
    "print(gct_df_new_filtered.loc[:, ~gct_df_new_filtered.columns.isin(['Mean', 'Median', 'Standard Deviation'])].mean())\n",
    "print(gct_df_new_filtered.loc[:, ~gct_df_new_filtered.columns.isin(['Mean', 'Median', 'Standard Deviation'])].median())\n",
    "new_hist1 = gct_df_new_filtered.hist(column='A7-A0DB-normal',bins=40)\n",
    "new_hist2 = gct_df_new_filtered.hist(column='A7-A13E-normal', bins=40)\n",
    "new_hist3 = gct_df_new_filtered.hist(column='BH-A0B3-primary', bins=40)\n",
    "new_hist4 = gct_df_new_filtered.hist(column='BH-A0B5-primary', bins=40)"
   ]
  }
 ],
 "metadata": {
  "kernelspec": {
   "display_name": "Python 3",
   "language": "python",
   "name": "python3"
  },
  "language_info": {
   "codemirror_mode": {
    "name": "ipython",
    "version": 3
   },
   "file_extension": ".py",
   "mimetype": "text/x-python",
   "name": "python",
   "nbconvert_exporter": "python",
   "pygments_lexer": "ipython3",
   "version": "3.9.2"
  },
  "toc": {
   "base_numbering": 1,
   "nav_menu": {},
   "number_sections": false,
   "sideBar": true,
   "skip_h1_title": false,
   "title_cell": "Table of Contents",
   "title_sidebar": "Contents",
   "toc_cell": false,
   "toc_position": {},
   "toc_section_display": true,
   "toc_window_display": false
  }
 },
 "nbformat": 4,
 "nbformat_minor": 5
}
